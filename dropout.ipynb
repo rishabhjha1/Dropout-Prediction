{
  "cells": [
    {
      "cell_type": "code",
      "execution_count": 94,
      "metadata": {
        "id": "Pn4dgIAXuJmX"
      },
      "outputs": [],
      "source": [
        "import pandas as pd\n",
        "from sklearn.model_selection import train_test_split\n",
        "from sklearn.preprocessing import StandardScaler\n",
        "import tensorflow as tf\n",
        "from tensorflow.keras import layers\n",
        "\n",
        "# Load the dataset\n",
        "# Assuming the dataset is in CSV format, replace 'your_dataset.csv' with the actual file path.\n",
        "df = pd.read_csv('data.csv')\n",
        "\n"
      ]
    },
    {
      "cell_type": "code",
      "execution_count": 95,
      "metadata": {
        "colab": {
          "base_uri": "https://localhost:8080/",
          "height": 295
        },
        "id": "181E7esauJmf",
        "outputId": "1455d0cf-7795-4045-e4a8-9b69a7f74da5"
      },
      "outputs": [
        {
          "data": {
            "text/html": [
              "<div>\n",
              "<style scoped>\n",
              "    .dataframe tbody tr th:only-of-type {\n",
              "        vertical-align: middle;\n",
              "    }\n",
              "\n",
              "    .dataframe tbody tr th {\n",
              "        vertical-align: top;\n",
              "    }\n",
              "\n",
              "    .dataframe thead th {\n",
              "        text-align: right;\n",
              "    }\n",
              "</style>\n",
              "<table border=\"1\" class=\"dataframe\">\n",
              "  <thead>\n",
              "    <tr style=\"text-align: right;\">\n",
              "      <th></th>\n",
              "      <th>First Term Gpa' numeric</th>\n",
              "      <th>Second Term Gpa' numeric</th>\n",
              "      <th>First Language' numeric</th>\n",
              "      <th>Funding numeric</th>\n",
              "      <th>School numeric</th>\n",
              "      <th>FastTrack numeric</th>\n",
              "      <th>Coop numeric</th>\n",
              "      <th>Residency numeric</th>\n",
              "      <th>Gender numeric</th>\n",
              "      <th>Previous Education' numeric</th>\n",
              "      <th>Age Group' numeric</th>\n",
              "      <th>High School Average Mark' numeric</th>\n",
              "      <th>Math Score' English Grade' numeric</th>\n",
              "      <th>Unnamed: 13</th>\n",
              "      <th>FirstYearPersistence {1,0}</th>\n",
              "    </tr>\n",
              "  </thead>\n",
              "  <tbody>\n",
              "    <tr>\n",
              "      <th>0</th>\n",
              "      <td>0</td>\n",
              "      <td>0</td>\n",
              "      <td>1</td>\n",
              "      <td>2</td>\n",
              "      <td>6</td>\n",
              "      <td>2</td>\n",
              "      <td>1</td>\n",
              "      <td>1</td>\n",
              "      <td>2</td>\n",
              "      <td>1</td>\n",
              "      <td>1</td>\n",
              "      <td>59</td>\n",
              "      <td>16</td>\n",
              "      <td>7</td>\n",
              "      <td>1</td>\n",
              "    </tr>\n",
              "    <tr>\n",
              "      <th>1</th>\n",
              "      <td>2.5</td>\n",
              "      <td>2</td>\n",
              "      <td>3</td>\n",
              "      <td>4</td>\n",
              "      <td>6</td>\n",
              "      <td>1</td>\n",
              "      <td>2</td>\n",
              "      <td>2</td>\n",
              "      <td>2</td>\n",
              "      <td>1</td>\n",
              "      <td>3</td>\n",
              "      <td>?</td>\n",
              "      <td>?</td>\n",
              "      <td>7</td>\n",
              "      <td>1</td>\n",
              "    </tr>\n",
              "    <tr>\n",
              "      <th>2</th>\n",
              "      <td>4.25</td>\n",
              "      <td>3.923077</td>\n",
              "      <td>1</td>\n",
              "      <td>1</td>\n",
              "      <td>6</td>\n",
              "      <td>2</td>\n",
              "      <td>1</td>\n",
              "      <td>1</td>\n",
              "      <td>1</td>\n",
              "      <td>2</td>\n",
              "      <td>3</td>\n",
              "      <td>92</td>\n",
              "      <td>41</td>\n",
              "      <td>9</td>\n",
              "      <td>1</td>\n",
              "    </tr>\n",
              "    <tr>\n",
              "      <th>3</th>\n",
              "      <td>3.020833</td>\n",
              "      <td>2.321429</td>\n",
              "      <td>3</td>\n",
              "      <td>4</td>\n",
              "      <td>6</td>\n",
              "      <td>1</td>\n",
              "      <td>2</td>\n",
              "      <td>2</td>\n",
              "      <td>2</td>\n",
              "      <td>2</td>\n",
              "      <td>3</td>\n",
              "      <td>?</td>\n",
              "      <td>?</td>\n",
              "      <td>8</td>\n",
              "      <td>1</td>\n",
              "    </tr>\n",
              "    <tr>\n",
              "      <th>4</th>\n",
              "      <td>4.275</td>\n",
              "      <td>4.326923</td>\n",
              "      <td>1</td>\n",
              "      <td>2</td>\n",
              "      <td>6</td>\n",
              "      <td>1</td>\n",
              "      <td>1</td>\n",
              "      <td>1</td>\n",
              "      <td>1</td>\n",
              "      <td>2</td>\n",
              "      <td>3</td>\n",
              "      <td>97</td>\n",
              "      <td>?</td>\n",
              "      <td>9</td>\n",
              "      <td>1</td>\n",
              "    </tr>\n",
              "  </tbody>\n",
              "</table>\n",
              "</div>"
            ],
            "text/plain": [
              "  First Term Gpa' numeric Second Term Gpa' numeric First Language' numeric  \\\n",
              "0                       0                        0                       1   \n",
              "1                     2.5                        2                       3   \n",
              "2                    4.25                 3.923077                       1   \n",
              "3                3.020833                 2.321429                       3   \n",
              "4                   4.275                 4.326923                       1   \n",
              "\n",
              "    Funding numeric  School numeric  FastTrack numeric  Coop numeric  \\\n",
              "0                 2               6                  2             1   \n",
              "1                 4               6                  1             2   \n",
              "2                 1               6                  2             1   \n",
              "3                 4               6                  1             2   \n",
              "4                 2               6                  1             1   \n",
              "\n",
              "    Residency numeric  Gender numeric Previous Education' numeric  \\\n",
              "0                   1               2                           1   \n",
              "1                   2               2                           1   \n",
              "2                   1               1                           2   \n",
              "3                   2               2                           2   \n",
              "4                   1               1                           2   \n",
              "\n",
              "  Age Group' numeric High School Average Mark' numeric  \\\n",
              "0                  1                                59   \n",
              "1                  3                                 ?   \n",
              "2                  3                                92   \n",
              "3                  3                                 ?   \n",
              "4                  3                                97   \n",
              "\n",
              "  Math Score' English Grade' numeric Unnamed: 13  FirstYearPersistence {1,0}  \n",
              "0                                 16           7                           1  \n",
              "1                                  ?           7                           1  \n",
              "2                                 41           9                           1  \n",
              "3                                  ?           8                           1  \n",
              "4                                  ?           9                           1  "
            ]
          },
          "execution_count": 95,
          "metadata": {},
          "output_type": "execute_result"
        }
      ],
      "source": [
        "df.head()"
      ]
    },
    {
      "cell_type": "code",
      "execution_count": 96,
      "metadata": {
        "colab": {
          "base_uri": "https://localhost:8080/"
        },
        "id": "Vx970JNvuJmk",
        "outputId": "dad32a18-b3a8-490f-c6e3-e1516c37b446"
      },
      "outputs": [
        {
          "data": {
            "text/plain": [
              "Index(['First Term Gpa' numeric', 'Second Term Gpa' numeric',\n",
              "       'First Language' numeric', ' Funding numeric', 'School numeric',\n",
              "       'FastTrack numeric', 'Coop numeric', ' Residency numeric',\n",
              "       'Gender numeric', 'Previous Education' numeric', 'Age Group' numeric',\n",
              "       'High School Average Mark' numeric',\n",
              "       'Math Score' English Grade' numeric', 'Unnamed: 13',\n",
              "       'FirstYearPersistence {1,0}'],\n",
              "      dtype='object')"
            ]
          },
          "execution_count": 96,
          "metadata": {},
          "output_type": "execute_result"
        }
      ],
      "source": [
        "df.columns"
      ]
    },
    {
      "cell_type": "code",
      "execution_count": 97,
      "metadata": {
        "colab": {
          "base_uri": "https://localhost:8080/",
          "height": 554
        },
        "id": "SJR_TBs_uJmm",
        "outputId": "4322a916-efd6-4708-8d86-195637a47401"
      },
      "outputs": [
        {
          "data": {
            "text/plain": [
              "First Term Gpa' numeric               0\n",
              "Second Term Gpa' numeric              0\n",
              "First Language' numeric               0\n",
              " Funding numeric                      0\n",
              "School numeric                        0\n",
              "FastTrack numeric                     0\n",
              "Coop numeric                          0\n",
              " Residency numeric                    0\n",
              "Gender numeric                        0\n",
              "Previous Education' numeric           0\n",
              "Age Group' numeric                    0\n",
              "High School Average Mark' numeric     0\n",
              "Math Score' English Grade' numeric    0\n",
              "Unnamed: 13                           0\n",
              "FirstYearPersistence {1,0}            0\n",
              "dtype: int64"
            ]
          },
          "execution_count": 97,
          "metadata": {},
          "output_type": "execute_result"
        }
      ],
      "source": [
        "df.isnull().sum()"
      ]
    },
    {
      "cell_type": "code",
      "execution_count": 98,
      "metadata": {
        "id": "KGooc1wvuJmn"
      },
      "outputs": [],
      "source": [
        "#outlier detection"
      ]
    },
    {
      "cell_type": "code",
      "execution_count": 99,
      "metadata": {
        "id": "c34nqPwWuan7"
      },
      "outputs": [],
      "source": [
        "import numpy as np"
      ]
    },
    {
      "cell_type": "code",
      "execution_count": 100,
      "metadata": {
        "id": "u4WODe5fuJmo"
      },
      "outputs": [],
      "source": [
        "\n",
        "\n",
        "# Split dataset into features (X) and target (y)\n",
        "X = df.drop('FirstYearPersistence {1,0}', axis=1)\n",
        "y = df['FirstYearPersistence {1,0}']\n",
        "\n"
      ]
    },
    {
      "cell_type": "code",
      "execution_count": 102,
      "metadata": {
        "id": "pDjQ-yMwuJmp"
      },
      "outputs": [],
      "source": [
        "df.replace('?', np.nan, inplace=True)\n"
      ]
    },
    {
      "cell_type": "code",
      "execution_count": 105,
      "metadata": {
        "id": "mXPwSQ4guJmr"
      },
      "outputs": [],
      "source": [
        "import numpy as np\n",
        "\n",
        "\n",
        "#Normalize the data using one hot encoding for nan\n",
        "\n",
        "X = pd.get_dummies(X)\n",
        "X.fillna(X.mean(), inplace=True)\n",
        "\n",
        "\n",
        "# Normalize the data\n",
        "\n",
        "scaler = StandardScaler()\n",
        "X = scaler.fit_transform(X)\n"
      ]
    },
    {
      "cell_type": "code",
      "execution_count": 106,
      "metadata": {
        "id": "KypeV9WruJms"
      },
      "outputs": [],
      "source": [
        "# Split the data into training and test sets\n",
        "X_train, X_test, y_train, y_test = train_test_split(\n",
        "    X, y, test_size=0.2, random_state=42)\n",
        "\n",
        "\n"
      ]
    },
    {
      "cell_type": "code",
      "execution_count": 107,
      "metadata": {
        "colab": {
          "base_uri": "https://localhost:8080/"
        },
        "id": "Nap4fDEQuJmt",
        "outputId": "88b3e5a8-bd40-4edf-a30e-621379a018f4"
      },
      "outputs": [],
      "source": [
        "# Build the neural network model\n",
        "model = tf.keras.Sequential([\n",
        "    layers.Dense(64, activation='relu', input_shape=(X_train.shape[1],)),\n",
        "    layers.Dense(32, activation='relu'),\n",
        "    # Assuming regression for persistence count\n",
        "    layers.Dense(1, activation='linear')\n",
        "])\n",
        "\n",
        "model.compile(optimizer='adam', loss='mse', metrics=['mae'])\n",
        "\n",
        "\n"
      ]
    },
    {
      "cell_type": "code",
      "execution_count": 108,
      "metadata": {
        "colab": {
          "base_uri": "https://localhost:8080/"
        },
        "id": "PMERiwSiuJmv",
        "outputId": "32d27a44-dd1e-4d08-d4a7-f08140be6f9d"
      },
      "outputs": [
        {
          "name": "stdout",
          "output_type": "stream",
          "text": [
            "Epoch 1/10\n",
            "36/36 [==============================] - 2s 12ms/step - loss: 0.6383 - mae: 0.6232 - val_loss: 0.4557 - val_mae: 0.5067\n",
            "Epoch 2/10\n",
            "36/36 [==============================] - 0s 4ms/step - loss: 0.2150 - mae: 0.3607 - val_loss: 0.3925 - val_mae: 0.4772\n",
            "Epoch 3/10\n",
            "36/36 [==============================] - 0s 4ms/step - loss: 0.0897 - mae: 0.2256 - val_loss: 0.3796 - val_mae: 0.4710\n",
            "Epoch 4/10\n",
            "36/36 [==============================] - 0s 5ms/step - loss: 0.0430 - mae: 0.1400 - val_loss: 0.3708 - val_mae: 0.4645\n",
            "Epoch 5/10\n",
            "36/36 [==============================] - 0s 5ms/step - loss: 0.0298 - mae: 0.1055 - val_loss: 0.3696 - val_mae: 0.4652\n",
            "Epoch 6/10\n",
            "36/36 [==============================] - 0s 4ms/step - loss: 0.0253 - mae: 0.0939 - val_loss: 0.3616 - val_mae: 0.4590\n",
            "Epoch 7/10\n",
            "36/36 [==============================] - 0s 4ms/step - loss: 0.0211 - mae: 0.0885 - val_loss: 0.3766 - val_mae: 0.4741\n",
            "Epoch 8/10\n",
            "36/36 [==============================] - 0s 4ms/step - loss: 0.0222 - mae: 0.0921 - val_loss: 0.3466 - val_mae: 0.4523\n",
            "Epoch 9/10\n",
            "36/36 [==============================] - 0s 4ms/step - loss: 0.0217 - mae: 0.0922 - val_loss: 0.3576 - val_mae: 0.4620\n",
            "Epoch 10/10\n",
            "36/36 [==============================] - 0s 4ms/step - loss: 0.0217 - mae: 0.0924 - val_loss: 0.3467 - val_mae: 0.4552\n"
          ]
        },
        {
          "data": {
            "text/plain": [
              "<keras.callbacks.History at 0x19955677ac0>"
            ]
          },
          "execution_count": 108,
          "metadata": {},
          "output_type": "execute_result"
        }
      ],
      "source": [
        "# Train the model\n",
        "model.fit(X_train, y_train, validation_data=(\n",
        "    X_test, y_test), epochs=10, batch_size=32)\n",
        "\n"
      ]
    },
    {
      "cell_type": "code",
      "execution_count": 109,
      "metadata": {
        "colab": {
          "base_uri": "https://localhost:8080/"
        },
        "id": "Zr77HM1OuJmx",
        "outputId": "e51534ce-201c-4bfc-c286-96b12a8fb302"
      },
      "outputs": [],
      "source": [
        "model.save('persistence_model.h5')\n"
      ]
    },
    {
      "cell_type": "code",
      "execution_count": 114,
      "metadata": {},
      "outputs": [
        {
          "name": "stdout",
          "output_type": "stream",
          "text": [
            "1/1 [==============================] - 0s 101ms/step\n",
            "Predicted probability: 0.99810755\n",
            "Predicted class (FirstYearPersistence): 1\n"
          ]
        }
      ],
      "source": [
        "import numpy as np\n",
        "import tensorflow as tf\n",
        "from tensorflow.keras import layers\n",
        "\n",
        "# Rebuild the model\n",
        "model = tf.keras.Sequential([\n",
        "    # Adjust input_shape if necessary\n",
        "    layers.Dense(64, activation='relu', input_shape=(14,)),\n",
        "    layers.Dense(32, activation='relu'),\n",
        "    layers.Dense(1, activation='sigmoid')  # Sigmoid for binary classification\n",
        "])\n",
        "\n",
        "model.compile(optimizer='adam', loss='binary_crossentropy',\n",
        "              metrics=['accuracy'])\n",
        "\n",
        "# Example input\n",
        "sample_input = np.array([[3.5, 3.8, 1, 0, 1, 1, 0, 1, 1, 2, 0, 85, 75, 80]])\n",
        "\n",
        "# Predict the target\n",
        "prediction = model.predict(sample_input)\n",
        "predicted_class = (prediction > 0.5).astype(int)\n",
        "\n",
        "print(\"Predicted probability:\", prediction[0][0])\n",
        "print(\"Predicted class (FirstYearPersistence):\", predicted_class[0][0])\n"
      ]
    },
    {
      "cell_type": "code",
      "execution_count": null,
      "metadata": {},
      "outputs": [],
      "source": []
    }
  ],
  "metadata": {
    "colab": {
      "provenance": []
    },
    "kernelspec": {
      "display_name": "Python 3.10.4 64-bit",
      "language": "python",
      "name": "python3"
    },
    "language_info": {
      "codemirror_mode": {
        "name": "ipython",
        "version": 3
      },
      "file_extension": ".py",
      "mimetype": "text/x-python",
      "name": "python",
      "nbconvert_exporter": "python",
      "pygments_lexer": "ipython3",
      "version": "3.10.4"
    },
    "orig_nbformat": 4,
    "vscode": {
      "interpreter": {
        "hash": "8c3d4d9970fc5c09c50d9318a9c7fbf4d0159e4b28833276f5678ee22bded273"
      }
    }
  },
  "nbformat": 4,
  "nbformat_minor": 0
}
